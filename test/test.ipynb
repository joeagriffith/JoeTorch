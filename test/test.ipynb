{
 "cells": [
  {
   "cell_type": "code",
   "execution_count": 1,
   "metadata": {},
   "outputs": [],
   "source": [
    "import torch\n",
    "from joetorch.nn.modules import ConvSelfAttentionBlock, ConvCrossAttentionBlock"
   ]
  },
  {
   "cell_type": "code",
   "execution_count": 4,
   "metadata": {},
   "outputs": [
    {
     "name": "stdout",
     "output_type": "stream",
     "text": [
      "torch.Size([128, 16, 8, 8])\n",
      "torch.Size([128, 16, 8, 8])\n"
     ]
    }
   ],
   "source": [
    "sa = ConvSelfAttentionBlock(16, 1)\n",
    "\n",
    "x = torch.randn(128, 16, 8, 8)\n",
    "y = sa(x)\n",
    "print(y.shape)\n",
    "\n",
    "ca = ConvCrossAttentionBlock(16, 1)\n",
    "\n",
    "z = torch.randn(128, 16, 8, 8)\n",
    "e = torch.randn(128, 16, 2, 2)\n",
    "w = ca(z, e)\n",
    "print(w.shape)"
   ]
  }
 ],
 "metadata": {
  "kernelspec": {
   "display_name": "ml-env",
   "language": "python",
   "name": "python3"
  },
  "language_info": {
   "codemirror_mode": {
    "name": "ipython",
    "version": 3
   },
   "file_extension": ".py",
   "mimetype": "text/x-python",
   "name": "python",
   "nbconvert_exporter": "python",
   "pygments_lexer": "ipython3",
   "version": "3.12.3"
  }
 },
 "nbformat": 4,
 "nbformat_minor": 2
}
